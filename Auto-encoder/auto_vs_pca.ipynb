{
 "cells": [
  {
   "cell_type": "code",
   "execution_count": 78,
   "id": "0c75d94b",
   "metadata": {},
   "outputs": [],
   "source": [
    "import numpy as np\n",
    "import torch\n",
    "import torch.nn as nn\n",
    "import torch.nn.functional as F\n",
    "from torch.utils.data import TensorDataset, DataLoader\n",
    "from sklearn.datasets import fetch_openml\n",
    "from sklearn.model_selection import train_test_split\n",
    "from sklearn.decomposition import KernelPCA\n",
    "import matplotlib.pyplot as plt\n",
    "from torchinfo import summary\n",
    "from tqdm import tqdm\n",
    "\n"
   ]
  },
  {
   "cell_type": "code",
   "execution_count": 46,
   "id": "02c6ce0a",
   "metadata": {},
   "outputs": [
    {
     "data": {
      "text/plain": [
       "device(type='cuda')"
      ]
     },
     "execution_count": 46,
     "metadata": {},
     "output_type": "execute_result"
    }
   ],
   "source": [
    "device = torch.device(\"cuda\" if torch.cuda.is_available() else \"cpu\")\n",
    "device"
   ]
  },
  {
   "cell_type": "code",
   "execution_count": 3,
   "id": "4c7f5aef",
   "metadata": {},
   "outputs": [],
   "source": [
    "# 1. Load MNIST from sklearn\n",
    "mnist = fetch_openml('mnist_784', version=1, as_frame=False)\n",
    "x = mnist['data'].astype(np.float32) / 255.0\n",
    "y = mnist['target'].astype(np.int64)"
   ]
  },
  {
   "cell_type": "code",
   "execution_count": 15,
   "id": "f8ed761c",
   "metadata": {},
   "outputs": [
    {
     "data": {
      "text/plain": [
       "<matplotlib.image.AxesImage at 0x1523b648f50>"
      ]
     },
     "execution_count": 15,
     "metadata": {},
     "output_type": "execute_result"
    },
    {
     "data": {
      "image/png": "[encoded data removed]",
      "text/plain": [
       "<Figure size 640x480 with 1 Axes>"
      ]
     },
     "metadata": {},
     "output_type": "display_data"
    }
   ],
   "source": [
    "plt.imshow(x[0].reshape(28, 28),cmap='gray')"
   ]
  },
  {
   "cell_type": "code",
   "execution_count": 16,
   "id": "a18dcb77",
   "metadata": {},
   "outputs": [],
   "source": [
    "# 2. Train/test split\n",
    "x_train, x_test, y_train, y_test = train_test_split(x, y, test_size=0.2, random_state=42)"
   ]
  },
  {
   "cell_type": "code",
   "execution_count": 64,
   "id": "03e7ccb8",
   "metadata": {},
   "outputs": [],
   "source": [
    "x_train_tensor = torch.tensor(x_train, dtype=torch.float32)\n",
    "x_test_tensor = torch.tensor(x_test, dtype=torch.float32)\n",
    "y_train_tensor = torch.tensor(y_train)  \n",
    "y_test_tensor = torch.tensor(y_test)"
   ]
  },
  {
   "cell_type": "code",
   "execution_count": 74,
   "id": "e42f7258",
   "metadata": {},
   "outputs": [],
   "source": [
    "train_loader = DataLoader(TensorDataset(x_train_tensor,y_train_tensor), batch_size=64, shuffle=True)\n",
    "val_loader = DataLoader(TensorDataset(x_test_tensor,y_test_tensor), batch_size=64, shuffle=True)"
   ]
  },
  {
   "cell_type": "code",
   "execution_count": 66,
   "id": "aef51d7b",
   "metadata": {},
   "outputs": [],
   "source": [
    "# class Autoencoder(nn.Module):\n",
    "#     def __init__(self,input_dim):\n",
    "#         super().__init__()\n",
    "#         self.dropout = nn.Dropout(0.5)\n",
    "#         # Encoder \n",
    "#         self.fc1 = nn.Linear(input_dim,300)\n",
    "#         # self.dropout1 = nn.Dropout(0.5)\n",
    "#         self.fc2 = nn.Linear(300, 100)\n",
    "#         # self.dropout2 = nn.Dropout(0.5)\n",
    "#         self.fc3 = nn.Linear(100,2)\n",
    "\n",
    "#         # Decoder \n",
    "#         self.fc4 = nn.Linear(2,100)\n",
    "#         # self.dropout3 = nn.Dropout(0.5)\n",
    "#         self.fc5 = nn.Linear(100, 300)\n",
    "#         # self.dropout4 = nn.Dropout(0.5)\n",
    "#         self.fc6 = nn.Linear(300, input_dim)\n",
    "\n",
    "#     def forward(self,x):\n",
    "#         x = self.dropout(F.relu(self.fc1(x)))\n",
    "#         x = self.dropout(F.relu(self.fc2(x)))\n",
    "#         z = self.fc3(x)\n",
    "#         x = self.dropout(F.relu(self.fc4(z)))\n",
    "#         x = self.dropout(F.relu(self.fc5(x)))\n",
    "#         x = torch.sigmoid(self.fc6(x))\n",
    "#         return x , z \n",
    "\n",
    "\n",
    "class Autoencoder(nn.Module):\n",
    "    def __init__(self, input_dim=784, latent_dim=2, hidden_dims=(300, 100), dropout=0.5):\n",
    "        super().__init__()\n",
    "        self.input_dim = input_dim\n",
    "        self.latent_dim = latent_dim\n",
    "        self.dropout = nn.Dropout(dropout)\n",
    "\n",
    "        # Encoder\n",
    "        self.enc1 = nn.Linear(input_dim, hidden_dims[0])\n",
    "        self.enc2 = nn.Linear(hidden_dims[0], hidden_dims[1])\n",
    "        self.z = nn.Linear(hidden_dims[1], latent_dim)\n",
    "\n",
    "        # Decoder\n",
    "        self.dec1 = nn.Linear(latent_dim, hidden_dims[1])\n",
    "        self.dec2 = nn.Linear(hidden_dims[1], hidden_dims[0])\n",
    "        self.out = nn.Linear(hidden_dims[0], input_dim)\n",
    "\n",
    "    def forward(self, x):\n",
    "        x = x.view(x.size(0), -1)  # flatten if needed\n",
    "        x = self.dropout(F.relu(self.enc1(x)))\n",
    "        x = self.dropout(F.relu(self.enc2(x)))\n",
    "        z = self.z(x)\n",
    "        x = self.dropout(F.relu(self.dec1(z)))\n",
    "        x = self.dropout(F.relu(self.dec2(x)))\n",
    "        x = torch.sigmoid(self.out(x))\n",
    "        return x, z"
   ]
  },
  {
   "cell_type": "code",
   "execution_count": 67,
   "id": "a29618cc",
   "metadata": {},
   "outputs": [],
   "source": [
    "config = {\n",
    "    \"input_dim\": 784,\n",
    "    \"latent_dim\": 2,\n",
    "    \"hidden_dims\": (300, 100),\n",
    "    \"dropout\": 0.5\n",
    "}"
   ]
  },
  {
   "cell_type": "code",
   "execution_count": 68,
   "id": "fac41657",
   "metadata": {},
   "outputs": [
    {
     "data": {
      "text/plain": [
       "========================================================================================================================\n",
       "Layer (type:depth-idx)                   Input Shape          Output Shape         Param #              Kernel Shape\n",
       "========================================================================================================================\n",
       "Autoencoder                              [64, 784]            [64, 784]            --                   --\n",
       "├─Linear: 1-1                            [64, 784]            [64, 300]            235,500              --\n",
       "├─Dropout: 1-2                           [64, 300]            [64, 300]            --                   --\n",
       "├─Linear: 1-3                            [64, 300]            [64, 100]            30,100               --\n",
       "├─Dropout: 1-4                           [64, 100]            [64, 100]            --                   --\n",
       "├─Linear: 1-5                            [64, 100]            [64, 2]              202                  --\n",
       "├─Linear: 1-6                            [64, 2]              [64, 100]            300                  --\n",
       "├─Dropout: 1-7                           [64, 100]            [64, 100]            --                   --\n",
       "├─Linear: 1-8                            [64, 100]            [64, 300]            30,300               --\n",
       "├─Dropout: 1-9                           [64, 300]            [64, 300]            --                   --\n",
       "├─Linear: 1-10                           [64, 300]            [64, 784]            235,984              --\n",
       "========================================================================================================================\n",
       "Total params: 532,386\n",
       "Trainable params: 532,386\n",
       "Non-trainable params: 0\n",
       "Total mult-adds (Units.MEGABYTES): 34.07\n",
       "========================================================================================================================\n",
       "Input size (MB): 0.20\n",
       "Forward/backward pass size (MB): 0.81\n",
       "Params size (MB): 2.13\n",
       "Estimated Total Size (MB): 3.14\n",
       "========================================================================================================================"
      ]
     },
     "execution_count": 68,
     "metadata": {},
     "output_type": "execute_result"
    }
   ],
   "source": [
    "model = Autoencoder(**config).to(device)\n",
    "summary(model, input_size=(64, config[\"input_dim\"]), \n",
    "        col_names=[\"input_size\", \"output_size\", \"num_params\", \"kernel_size\"],\n",
    "        col_width=20, depth=3)\n"
   ]
  },
  {
   "cell_type": "code",
   "execution_count": 76,
   "id": "5d9f8892",
   "metadata": {},
   "outputs": [],
   "source": [
    "criterion = torch.nn.BCELoss()  \n",
    "optimizer = torch.optim.Adam(model.parameters(), lr=1e-3)"
   ]
  },
  {
   "cell_type": "code",
   "execution_count": 84,
   "id": "d7664220",
   "metadata": {},
   "outputs": [],
   "source": [
    "def train_epoch(model,dataloader,loss_fn,optimizer,device):\n",
    "    model.train()\n",
    "    total_loss = 0 \n",
    "\n",
    "    for inputs , _ in tqdm(dataloader , desc='Training',leave=False): # autoencoder not label\n",
    "        inputs = inputs.to(device)\n",
    "        optimizer.zero_grad()\n",
    "\n",
    "        outputs, _ = model(inputs) # forward pass ทำ forward pass เพื่อให้ model สร้าง output จาก input\n",
    "        loss = loss_fn(outputs, inputs) # loss compare output vs input\n",
    "        loss.backward() # calculate gradient \n",
    "        optimizer.step() # optimizer = ปรับ weight ตาม gradient \n",
    "        total_loss += loss.item() * inputs.size(0)\n",
    "    return total_loss / len(dataloader.dataset)\n",
    "\n",
    "def validate_epoch(model, dataloader, loss_fn, device):\n",
    "    model.eval() # ตั้งโหมด eval (ปิด dropout)\n",
    "    total_loss = 0\n",
    "    with torch.no_grad(): # ปิดการคำนวณ gradient ลดการใช้ memory\n",
    "        for inputs, _ in tqdm(dataloader, desc=\"Validating\", leave=False):\n",
    "            inputs = inputs.to(device)\n",
    "            outputs, _ = model(inputs)\n",
    "            loss = loss_fn(outputs, inputs)\n",
    "            total_loss += loss.item() * inputs.size(0)\n",
    "    return total_loss / len(dataloader.dataset)"
   ]
  },
  {
   "cell_type": "code",
   "execution_count": null,
   "id": "ab5bf581",
   "metadata": {},
   "outputs": [
    {
     "name": "stderr",
     "output_type": "stream",
     "text": [
      "                                                              \r"
     ]
    },
    {
     "name": "stdout",
     "output_type": "stream",
     "text": [
      "Epoch  1/5 | Train Loss: 0.1942 | Val Loss: 0.1820\n"
     ]
    },
    {
     "name": "stderr",
     "output_type": "stream",
     "text": [
      "                                                              \r"
     ]
    },
    {
     "name": "stdout",
     "output_type": "stream",
     "text": [
      "Epoch  2/5 | Train Loss: 0.1940 | Val Loss: 0.1825\n"
     ]
    },
    {
     "name": "stderr",
     "output_type": "stream",
     "text": [
      "                                                              \r"
     ]
    },
    {
     "name": "stdout",
     "output_type": "stream",
     "text": [
      "Epoch  3/5 | Train Loss: 0.1944 | Val Loss: 0.1823\n"
     ]
    },
    {
     "name": "stderr",
     "output_type": "stream",
     "text": [
      "                                                              \r"
     ]
    },
    {
     "name": "stdout",
     "output_type": "stream",
     "text": [
      "Epoch  4/5 | Train Loss: 0.1946 | Val Loss: 0.1824\n"
     ]
    },
    {
     "name": "stderr",
     "output_type": "stream",
     "text": [
      "                                                              "
     ]
    },
    {
     "name": "stdout",
     "output_type": "stream",
     "text": [
      "Epoch  5/5 | Train Loss: 0.1941 | Val Loss: 0.1823\n"
     ]
    },
    {
     "name": "stderr",
     "output_type": "stream",
     "text": [
      "\r"
     ]
    }
   ],
   "source": [
    "train_losses = []\n",
    "val_losses = []\n",
    "\n",
    "num_epochs = 5\n",
    "for epoch in range(1, num_epochs + 1):\n",
    "    train_loss = train_epoch(model, train_loader, criterion, optimizer, device)\n",
    "    val_loss = validate_epoch(model, val_loader, criterion, device)\n",
    "    \n",
    "    train_losses.append(train_loss)\n",
    "    val_losses.append(val_loss)\n",
    "\n",
    "    print(f\"Epoch {epoch:2d}/{num_epochs} | Train Loss: {train_loss:.4f} | Val Loss: {val_loss:.4f}\")"
   ]
  },
  {
   "cell_type": "code",
   "execution_count": 92,
   "id": "d7f242d4",
   "metadata": {},
   "outputs": [
    {
     "data": {
      "image/png": "[encoded data removed]",
      "text/plain": [
       "<Figure size 640x480 with 1 Axes>"
      ]
     },
     "metadata": {},
     "output_type": "display_data"
    }
   ],
   "source": [
    "import matplotlib.pyplot as plt\n",
    "\n",
    "plt.plot(train_loss, label='Train Loss')\n",
    "plt.plot(val_loss, label='Validation Loss')\n",
    "plt.xlabel('Epoch')\n",
    "plt.ylabel('Loss')\n",
    "plt.title('Autoencoder Training vs Validation Loss')\n",
    "plt.legend()\n",
    "plt.grid(True)\n",
    "plt.show()"
   ]
  }
 ],
 "metadata": {
  "kernelspec": {
   "display_name": "pine",
   "language": "python",
   "name": "python3"
  },
  "language_info": {
   "codemirror_mode": {
    "name": "ipython",
    "version": 3
   },
   "file_extension": ".py",
   "mimetype": "text/x-python",
   "name": "python",
   "nbconvert_exporter": "python",
   "pygments_lexer": "ipython3",
   "version": "3.13.2"
  }
 },
 "nbformat": 4,
 "nbformat_minor": 5
}
